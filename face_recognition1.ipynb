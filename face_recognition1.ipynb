import cv2
import face_recognition as fr
vid = cv2.VideoCapture(0)

fd = cv2.CascadeClassifier(
    cv2.data.haarcascades +
        'haarcascade_frontalface_default.xml'
)

frameCount = 0
name = input("Enter your name:")
while True:
    flag,img = vid.read()
    if flag:
         faces = fd.detectMultiScale(cv2.cvtColor(img,cv2.COLOR_BGR2GRAY),
                                    scaleFactor = 1.1, 
                                    minNeighbors = 5,
                                    minSize = (50,50)) 
         
         if len(faces) == 1:
              x,y,w,h = faces[0]
              img_faces = img[y:y+h,x:x+w,:].copy()
              img_faces = cv2.resize(img_faces,(400,400),interpolation=cv2.INTER_CUBIC)