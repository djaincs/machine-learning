{
 "cells": [
  {
   "cell_type": "code",
   "execution_count": null,
   "metadata": {},
   "outputs": [],
   "source": [
    "#AIRPORT CABS DATA ANALYSIS:-"
   ]
  },
  {
   "cell_type": "code",
   "execution_count": 30,
   "metadata": {},
   "outputs": [],
   "source": [
    "#mean spped of all the rides\n",
    "# no. of rides taaken in february\n",
    "# no. of rides where tips more than $50\n",
    "# no. of rides where drop was JKP airport"
   ]
  },
  {
   "cell_type": "code",
   "execution_count": 1,
   "metadata": {},
   "outputs": [],
   "source": [
    "import numpy as np"
   ]
  },
  {
   "cell_type": "code",
   "execution_count": 37,
   "metadata": {},
   "outputs": [],
   "source": [
    "taxi = np.genfromtxt('nyc_taxis.csv',delimiter=',',skip_header=True)\n"
   ]
  },
  {
   "cell_type": "code",
   "execution_count": 7,
   "metadata": {},
   "outputs": [],
   "source": [
    "speed = taxi[:,7]/(taxi[:,8]/3600)   #speed = 8th col/9th col\n",
    "# trip length/3600 bcoz we have given trip length in seconds \n",
    "# and by dividing with 3600 we have converted it into hours \n",
    "#and distance is in miles so our speed will become \n",
    "# miles per hours"
   ]
  },
  {
   "cell_type": "code",
   "execution_count": 9,
   "metadata": {},
   "outputs": [
    {
     "name": "stdout",
     "output_type": "stream",
     "text": [
      "32.24258580925573\n"
     ]
    }
   ],
   "source": [
    "mean_speed = speed.mean()\n",
    "print(mean_speed)"
   ]
  },
  {
   "cell_type": "code",
   "execution_count": 18,
   "metadata": {},
   "outputs": [
    {
     "name": "stdout",
     "output_type": "stream",
     "text": [
      "(13333,)\n",
      "13333\n"
     ]
    }
   ],
   "source": [
    "# no. of rides taken in february\n",
    "rides_feb = taxi[taxi[:,1] == 2,1] #2,1 just because of safety\n",
    "#that we are using 1st column\n",
    "print(rides_feb.shape)\n",
    "print(rides_feb.shape[0]) #gives shape of only 0 col in which\n",
    "#no. of rows shows rides taken in feb"
   ]
  },
  {
   "cell_type": "code",
   "execution_count": 26,
   "metadata": {},
   "outputs": [
    {
     "name": "stdout",
     "output_type": "stream",
     "text": [
      "(13333,)\n",
      "13333\n"
     ]
    }
   ],
   "source": [
    "rides = taxi[:,1]\n",
    "a = rides[rides == 2]\n",
    "print(a.shape)\n",
    "print(a.shape[0])"
   ]
  },
  {
   "cell_type": "code",
   "execution_count": 28,
   "metadata": {},
   "outputs": [
    {
     "name": "stdout",
     "output_type": "stream",
     "text": [
      "16\n"
     ]
    }
   ],
   "source": [
    "# no. of rides where tips more than $50\n",
    "tip = taxi[taxi[:,-3] > 50 , -3]\n",
    "print(tip.shape[0])\n"
   ]
  },
  {
   "cell_type": "code",
   "execution_count": 29,
   "metadata": {},
   "outputs": [
    {
     "name": "stdout",
     "output_type": "stream",
     "text": [
      "11832\n"
     ]
    }
   ],
   "source": [
    "# no. of rides where drop was JFK airport\n",
    "#dropoff_location_code of JFK airport is 2\n",
    "drop = taxi[taxi[:,6] == 2 ,6]\n",
    "print(drop.shape[0])"
   ]
  },
  {
   "cell_type": "code",
   "execution_count": 48,
   "metadata": {},
   "outputs": [
    {
     "name": "stdout",
     "output_type": "stream",
     "text": [
      "the max profit is: 834.84 and the year of maximum profit is: 2016\n"
     ]
    }
   ],
   "source": [
    "total = taxi[:,-2]\n",
    "maxi = total.max(axis=0)\n",
    "max_year_idx = total.argmax(axis=0)\n",
    "max_year = taxi[max_year_idx,0]\n",
    "print(\"the max profit is:\", maxi,\n",
    "      \"and the year of maximum profit is:\",max_year.astype('int'))"
   ]
  },
  {
   "cell_type": "code",
   "execution_count": null,
   "metadata": {},
   "outputs": [],
   "source": []
  },
  {
   "cell_type": "code",
   "execution_count": null,
   "metadata": {},
   "outputs": [],
   "source": []
  }
 ],
 "metadata": {
  "kernelspec": {
   "display_name": "Python 3",
   "language": "python",
   "name": "python3"
  },
  "language_info": {
   "codemirror_mode": {
    "name": "ipython",
    "version": 3
   },
   "file_extension": ".py",
   "mimetype": "text/x-python",
   "name": "python",
   "nbconvert_exporter": "python",
   "pygments_lexer": "ipython3",
   "version": "3.10.2"
  },
  "orig_nbformat": 4
 },
 "nbformat": 4,
 "nbformat_minor": 2
}
