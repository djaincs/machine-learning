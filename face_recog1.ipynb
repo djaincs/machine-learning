{
 "cells": [
  {
   "cell_type": "code",
   "execution_count": 25,
   "metadata": {},
   "outputs": [
    {
     "name": "stdout",
     "output_type": "stream",
     "text": [
      "1\n",
      "2\n",
      "3\n",
      "4\n",
      "5\n",
      "6\n",
      "7\n",
      "8\n",
      "9\n",
      "10\n",
      "11\n",
      "12\n",
      "13\n",
      "14\n",
      "15\n",
      "16\n",
      "17\n",
      "18\n",
      "19\n",
      "20\n"
     ]
    }
   ],
   "source": [
    "import cv2\n",
    "import pandas as pd\n",
    "import face_recognition as fr\n",
    "\n",
    "file_name = 'faces_data.tsv'\n",
    "\n",
    "vid = cv2.VideoCapture(0)\n",
    "fd=cv2.CascadeClassifier(\n",
    "    cv2.data.haarcascades+'haarcascade_frontalface_default.xml'\n",
    ")\n",
    "\n",
    "try:\n",
    "    face_db = pd.read_csv(file_name,index_col=0, sep='\\t')\n",
    "    data ={\n",
    "        'name':face_db['name'].values.tolist(),\n",
    "        'encoding':face_db['encoding'].values.tolist(),\n",
    "    }\n",
    "except Exception as e:\n",
    "    print(e)\n",
    "    data={'name':[], 'encoding':[]}\n",
    "\n",
    "\n",
    "names=data['name']\n",
    "enc=data['encoding']\n",
    "\n",
    "framelimit = 20\n",
    "frameCount =0\n",
    "name = input(\"enter your name:\")\n",
    "while True:\n",
    "    flag, img = vid.read()\n",
    "    if flag:\n",
    "        faces= fd.detectMultiScale(cv2.cvtColor(img, cv2.COLOR_BGR2GRAY),scaleFactor = 1.1, minNeighbors = 5,\n",
    "                                     minSize =(50,50)\n",
    "                                    )\n",
    "        if len(faces)==1:\n",
    "            x,y,w,h= faces[0]\n",
    "            img_faces = img[y:y+h, x:x+w, :].copy()\n",
    "            img_faces= cv2.resize(img_faces,(400,400),interpolation=cv2.INTER_CUBIC)\n",
    "            face_encoding= fr.face_encodings(img_faces)\n",
    "\n",
    "            if len(face_encoding)==1:\n",
    "                enc.append(face_encoding[0].tolist())\n",
    "                names.append(name)\n",
    "                frameCount+=1\n",
    "                print(frameCount)\n",
    "                if frameCount == framelimit:\n",
    "                    data={'name':names,'encoding':enc}\n",
    "                    pd.DataFrame(data).to_csv(file_name,sep='\\t')\n",
    "                    break\n",
    "            cv2.imshow(\"preview\",img)\n",
    "            key = cv2.waitKey(1)\n",
    "            if key == ord('x'):\n",
    "                break\n",
    "cv2.destroyAllWindows()\n",
    "vid.release()"
   ]
  },
  {
   "cell_type": "code",
   "execution_count": 11,
   "metadata": {},
   "outputs": [],
   "source": [
    "names=[]\n",
    "enc =[]"
   ]
  },
  {
   "cell_type": "code",
   "execution_count": 12,
   "metadata": {},
   "outputs": [],
   "source": [
    "names.append(name)\n"
   ]
  },
  {
   "cell_type": "code",
   "execution_count": 13,
   "metadata": {},
   "outputs": [
    {
     "data": {
      "text/plain": [
       "['divya']"
      ]
     },
     "execution_count": 13,
     "metadata": {},
     "output_type": "execute_result"
    }
   ],
   "source": [
    "names"
   ]
  },
  {
   "cell_type": "code",
   "execution_count": 15,
   "metadata": {},
   "outputs": [],
   "source": [
    "enc.append(face_encoding[0])"
   ]
  },
  {
   "cell_type": "code",
   "execution_count": 17,
   "metadata": {},
   "outputs": [
    {
     "data": {
      "text/plain": [
       "[[]]"
      ]
     },
     "execution_count": 17,
     "metadata": {},
     "output_type": "execute_result"
    }
   ],
   "source": [
    "enc"
   ]
  },
  {
   "cell_type": "code",
   "execution_count": 18,
   "metadata": {},
   "outputs": [],
   "source": [
    "data = {'name':names, 'encoding':enc}"
   ]
  },
  {
   "cell_type": "code",
   "execution_count": 58,
   "metadata": {},
   "outputs": [],
   "source": [
    "import pandas as pd"
   ]
  },
  {
   "cell_type": "code",
   "execution_count": 19,
   "metadata": {},
   "outputs": [],
   "source": [
    "pd.DataFrame(data).to_csv('faces_data.csv')"
   ]
  },
  {
   "cell_type": "code",
   "execution_count": 64,
   "metadata": {},
   "outputs": [],
   "source": [
    "#face_db['name'].values"
   ]
  },
  {
   "cell_type": "code",
   "execution_count": 28,
   "metadata": {},
   "outputs": [
    {
     "name": "stdout",
     "output_type": "stream",
     "text": [
      "1\n",
      "2\n",
      "3\n",
      "4\n",
      "5\n"
     ]
    }
   ],
   "source": [
    "#face register\n",
    "import cv2\n",
    "import pandas as pd\n",
    "import face_recognition as fr\n",
    "\n",
    "file_name = 'faces_data.tsv'\n",
    "\n",
    "vid = cv2.VideoCapture(0)\n",
    "fd=cv2.CascadeClassifier(\n",
    "    cv2.data.haarcascades+'haarcascade_frontalface_default.xml'\n",
    ")\n",
    "\n",
    "try:\n",
    "    face_db = pd.read_csv(file_name,index_col=0, sep='\\t')\n",
    "    data ={\n",
    "        'name':face_db['name'].values.tolist(),\n",
    "        'encoding':face_db['encoding'].values.tolist(),\n",
    "    }\n",
    "except Exception as e:\n",
    "    print(e)\n",
    "    data={'name':[], 'encoding':[]}\n",
    "\n",
    "\n",
    "names=data['name']\n",
    "enc=data['encoding']\n",
    "\n",
    "framelimit = 20\n",
    "frameCount =0\n",
    "name = input(\"enter your name:\")\n",
    "while True:\n",
    "    flag, img = vid.read()\n",
    "    if flag:\n",
    "        faces= fd.detectMultiScale(cv2.cvtColor(img, cv2.COLOR_BGR2GRAY),scaleFactor = 1.1, minNeighbors = 5,\n",
    "                                     minSize =(50,50)\n",
    "                                    )\n",
    "        if len(faces)==1:\n",
    "            x,y,w,h= faces[0]\n",
    "            img_faces = img[y:y+h, x:x+w, :].copy()\n",
    "            img_faces= cv2.resize(img_faces,(400,400),interpolation=cv2.INTER_CUBIC)\n",
    "            face_encoding= fr.face_encodings(img_faces)\n",
    "\n",
    "            if len(face_encoding)==1:\n",
    "                enc.append(face_encoding[0].tolist())\n",
    "                names.append(name)\n",
    "                frameCount+=1\n",
    "                print(frameCount)\n",
    "                cv2.putText(img,str(frameCount),\n",
    "                                    (50,50),cv2.FONT_HERSHEY_COMPLEX,1.5,\n",
    "                                    (0,0,255),8)\n",
    "                if frameCount == framelimit:\n",
    "                    data={'name':names,'encoding':enc}\n",
    "                    pd.DataFrame(data).to_csv(file_name,sep='\\t')\n",
    "                    break\n",
    "        cv2.imshow(\"preview\",img)\n",
    "        key = cv2.waitKey(1)\n",
    "        if key == ord('x'):\n",
    "            break\n",
    "cv2.destroyAllWindows()\n",
    "vid.release()"
   ]
  },
  {
   "cell_type": "code",
   "execution_count": 27,
   "metadata": {},
   "outputs": [],
   "source": [
    "#Recognition\n",
    "\n",
    "import cv2\n",
    "import pandas as pd\n",
    "import numpy as np\n",
    "import face_recognition as fr\n",
    "\n",
    "vid = cv2.VideoCapture(0)\n",
    "fd=cv2.CascadeClassifier(\n",
    "    cv2.data.haarcascades+'haarcascade_frontalface_default.xml'\n",
    ")\n",
    "\n",
    "try:\n",
    "    face_db = pd.read_csv('faces_data.tsv',index_col=0, sep='\\t')\n",
    "    data ={\n",
    "        'name':face_db['name'].values.tolist(),\n",
    "        'encoding':face_db['encoding'].values.tolist(),\n",
    "    }\n",
    "except Exception as e:\n",
    "    print(e)\n",
    "    data={'name':[], 'encoding':[]}\n",
    "\n",
    "\n",
    "# names=data['name']\n",
    "# enc=data['encoding']\n",
    "\n",
    "# framelimit = 20\n",
    "# frameCount =0\n",
    "# name = input(\"enter your name:\")\n",
    "while True:\n",
    "    flag, img = vid.read()\n",
    "    if flag:\n",
    "        faces= fd.detectMultiScale(cv2.cvtColor(img, cv2.COLOR_BGR2GRAY),scaleFactor = 1.1, minNeighbors = 5,\n",
    "                                     minSize =(50,50)\n",
    "                                    )\n",
    "        if len(faces)==1:\n",
    "            x,y,w,h= faces[0]\n",
    "            img_faces = img[y:y+h, x:x+w, :].copy()\n",
    "            img_faces= cv2.resize(img_faces,(400,400),interpolation=cv2.INTER_CUBIC)\n",
    "            face_encoding= fr.face_encodings(img_faces)\n",
    "\n",
    "            if len(face_encoding)==1:\n",
    "                # enc.append(face_encoding[0])\n",
    "                # names.append(name)\n",
    "                # frameCount+=1\n",
    "                # if frameCount == framelimit:\n",
    "                #     data={'name':names,'encoding':enc}\n",
    "                #     pd.DataFrame(data).to_csv('faces_data.tsv',sep='\\t')\n",
    "                #     break\n",
    "                #print('Recognition will start now')\n",
    "                for index,enc_val in enumerate(data['encoding']):\n",
    "                    #live me jo face ki values aaegi use compare karenge databas ki values se\n",
    "                    matched = fr.compare_faces(face_encoding,np.array(eval(enc_val)))[0]\n",
    "\n",
    "                    if matched == True:\n",
    "                        #print(data['name'][index])\n",
    "                        cv2.putText(img,data['name'][index],\n",
    "                                    (50,50),cv2.FONT_HERSHEY_COMPLEX,1.5,\n",
    "                                    (0,0,255),8)\n",
    "                        break\n",
    "\n",
    "\n",
    "\n",
    "            cv2.imshow(\"preview\",img)\n",
    "            key = cv2.waitKey(1)\n",
    "            if key == ord('x'):\n",
    "                break\n",
    "cv2.destroyAllWindows()\n",
    "vid.release()"
   ]
  },
  {
   "cell_type": "code",
   "execution_count": null,
   "metadata": {},
   "outputs": [],
   "source": []
  }
 ],
 "metadata": {
  "kernelspec": {
   "display_name": "Python 3",
   "language": "python",
   "name": "python3"
  },
  "language_info": {
   "codemirror_mode": {
    "name": "ipython",
    "version": 3
   },
   "file_extension": ".py",
   "mimetype": "text/x-python",
   "name": "python",
   "nbconvert_exporter": "python",
   "pygments_lexer": "ipython3",
   "version": "3.10.2"
  },
  "orig_nbformat": 4
 },
 "nbformat": 4,
 "nbformat_minor": 2
}
